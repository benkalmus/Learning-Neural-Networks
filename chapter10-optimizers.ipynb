{
 "cells": [
  {
   "cell_type": "markdown",
   "metadata": {},
   "source": [
    "# Chapter 10 - Optimisers - Stochastic Gradient Descent (SGD)\n",
    "\n",
    "- **The Stochastic Gradient Descent** historically refers to an optimizer that fits a single\n",
    "sample at a time. \n",
    "- **The Batch Gradient Descent**, is an optimizer used to fit a whole dataset at once. \n",
    "- **Mini-batch Gradient Descent**, is used to fit slices of a dataset, which we’d call batches in our context. \n",
    "\n",
    "\n",
    "In the context of deep learning and this book, we call *slices* of data *batches*, where,\n",
    "historically, the term to refer to slices of data in the context of Stochastic Gradient Descent was *mini-batches*. In a future chapter, we’ll introduce data slices, or batches, so we should start by using the Mini-batch Gradient Descent optimizer.\n",
    "\n",
    "\n",
    "In the case of Stochastic Gradient Descent, we choose a learning rate, such as 1.0. We then\n",
    "subtract the learning_rate · parameter_gradients from the actual parameter values.\n",
    "\n",
    "If our learning rate is 1, then we’re subtracting the exact amount of gradient from our parameters. We’re going to start with 1 to see the results, but we’ll be diving more into the learning rate shortly. Let’s create the SGD optimizer class code. The initialization method will take hyper-parameters, starting with the learning rate, for now, storing them in the class’ properties."
   ]
  },
  {
   "cell_type": "code",
   "execution_count": 2,
   "metadata": {},
   "outputs": [],
   "source": [
    "# SGD optimizer\n",
    "class Optimizer_SGD:\n",
    "    # Initialize optimizer - set settings,\n",
    "    # learning rate of 1. is default for this optimizer\n",
    "    def __init__(self, learning_rate=1.0):\n",
    "        self.learning_rate = learning_rate\n",
    "        \n",
    "    # Update parameters\n",
    "    def update_params(self, layer):\n",
    "        layer.weights += -self.learning_rate * layer.dweights\n",
    "        layer.biases += -self.learning_rate * layer.dbiases\n",
    "        "
   ]
  },
  {
   "cell_type": "code",
   "execution_count": null,
   "metadata": {},
   "outputs": [],
   "source": [
    "#The update_params method, given a layer object, multiplies the gradients stored in the layers by the negated learning rate and adds the result to the layer’s parameters.\n",
    "optimizer = Optimizer_SGD()\n",
    "# update our network layer’s parameters after calculating the gradient using\n",
    "optimizer.update_params(dense1)\n",
    "optimizer.update_params(dense2)\n",
    "\n"
   ]
  },
  {
   "cell_type": "markdown",
   "metadata": {},
   "source": []
  },
  {
   "cell_type": "code",
   "execution_count": null,
   "metadata": {},
   "outputs": [],
   "source": []
  }
 ],
 "metadata": {
  "kernelspec": {
   "display_name": ".venv",
   "language": "python",
   "name": "python3"
  },
  "language_info": {
   "codemirror_mode": {
    "name": "ipython",
    "version": 3
   },
   "file_extension": ".py",
   "mimetype": "text/x-python",
   "name": "python",
   "nbconvert_exporter": "python",
   "pygments_lexer": "ipython3",
   "version": "3.11.4"
  }
 },
 "nbformat": 4,
 "nbformat_minor": 2
}
